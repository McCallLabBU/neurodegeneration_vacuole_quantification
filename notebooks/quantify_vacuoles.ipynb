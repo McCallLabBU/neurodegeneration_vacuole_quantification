{
 "cells": [
  {
   "cell_type": "code",
   "execution_count": 8,
   "metadata": {},
   "outputs": [],
   "source": [
    "from stl import mesh\n",
    "from mpl_toolkits import mplot3d\n",
    "from matplotlib import pyplot\n",
    "import glob\n",
    "import seaborn as sns"
   ]
  },
  {
   "cell_type": "code",
   "execution_count": 19,
   "metadata": {
    "collapsed": true
   },
   "outputs": [
    {
     "name": "stderr",
     "output_type": "stream",
     "text": [
      "Your mesh is not closed, the mass methods will not function\n",
      "            correctly on this mesh.  For more info:\n",
      "            https://github.com/WoLpH/numpy-stl/issues/69\n",
      "Your mesh is not closed, the mass methods will not function\n",
      "            correctly on this mesh.  For more info:\n",
      "            https://github.com/WoLpH/numpy-stl/issues/69\n",
      "Your mesh is not closed, the mass methods will not function\n",
      "            correctly on this mesh.  For more info:\n",
      "            https://github.com/WoLpH/numpy-stl/issues/69\n",
      "Your mesh is not closed, the mass methods will not function\n",
      "            correctly on this mesh.  For more info:\n",
      "            https://github.com/WoLpH/numpy-stl/issues/69\n",
      "Your mesh is not closed, the mass methods will not function\n",
      "            correctly on this mesh.  For more info:\n",
      "            https://github.com/WoLpH/numpy-stl/issues/69\n",
      "Your mesh is not closed, the mass methods will not function\n",
      "            correctly on this mesh.  For more info:\n",
      "            https://github.com/WoLpH/numpy-stl/issues/69\n",
      "Your mesh is not closed, the mass methods will not function\n",
      "            correctly on this mesh.  For more info:\n",
      "            https://github.com/WoLpH/numpy-stl/issues/69\n",
      "Your mesh is not closed, the mass methods will not function\n",
      "            correctly on this mesh.  For more info:\n",
      "            https://github.com/WoLpH/numpy-stl/issues/69\n",
      "Your mesh is not closed, the mass methods will not function\n",
      "            correctly on this mesh.  For more info:\n",
      "            https://github.com/WoLpH/numpy-stl/issues/69\n",
      "Your mesh is not closed, the mass methods will not function\n",
      "            correctly on this mesh.  For more info:\n",
      "            https://github.com/WoLpH/numpy-stl/issues/69\n",
      "Your mesh is not closed, the mass methods will not function\n",
      "            correctly on this mesh.  For more info:\n",
      "            https://github.com/WoLpH/numpy-stl/issues/69\n",
      "Your mesh is not closed, the mass methods will not function\n",
      "            correctly on this mesh.  For more info:\n",
      "            https://github.com/WoLpH/numpy-stl/issues/69\n",
      "Your mesh is not closed, the mass methods will not function\n",
      "            correctly on this mesh.  For more info:\n",
      "            https://github.com/WoLpH/numpy-stl/issues/69\n",
      "Your mesh is not closed, the mass methods will not function\n",
      "            correctly on this mesh.  For more info:\n",
      "            https://github.com/WoLpH/numpy-stl/issues/69\n",
      "Your mesh is not closed, the mass methods will not function\n",
      "            correctly on this mesh.  For more info:\n",
      "            https://github.com/WoLpH/numpy-stl/issues/69\n",
      "Your mesh is not closed, the mass methods will not function\n",
      "            correctly on this mesh.  For more info:\n",
      "            https://github.com/WoLpH/numpy-stl/issues/69\n",
      "Your mesh is not closed, the mass methods will not function\n",
      "            correctly on this mesh.  For more info:\n",
      "            https://github.com/WoLpH/numpy-stl/issues/69\n",
      "Your mesh is not closed, the mass methods will not function\n",
      "            correctly on this mesh.  For more info:\n",
      "            https://github.com/WoLpH/numpy-stl/issues/69\n",
      "Your mesh is not closed, the mass methods will not function\n",
      "            correctly on this mesh.  For more info:\n",
      "            https://github.com/WoLpH/numpy-stl/issues/69\n",
      "Your mesh is not closed, the mass methods will not function\n",
      "            correctly on this mesh.  For more info:\n",
      "            https://github.com/WoLpH/numpy-stl/issues/69\n",
      "Your mesh is not closed, the mass methods will not function\n",
      "            correctly on this mesh.  For more info:\n",
      "            https://github.com/WoLpH/numpy-stl/issues/69\n",
      "Your mesh is not closed, the mass methods will not function\n",
      "            correctly on this mesh.  For more info:\n",
      "            https://github.com/WoLpH/numpy-stl/issues/69\n",
      "Your mesh is not closed, the mass methods will not function\n",
      "            correctly on this mesh.  For more info:\n",
      "            https://github.com/WoLpH/numpy-stl/issues/69\n",
      "Your mesh is not closed, the mass methods will not function\n",
      "            correctly on this mesh.  For more info:\n",
      "            https://github.com/WoLpH/numpy-stl/issues/69\n",
      "Your mesh is not closed, the mass methods will not function\n",
      "            correctly on this mesh.  For more info:\n",
      "            https://github.com/WoLpH/numpy-stl/issues/69\n",
      "Your mesh is not closed, the mass methods will not function\n",
      "            correctly on this mesh.  For more info:\n",
      "            https://github.com/WoLpH/numpy-stl/issues/69\n",
      "Your mesh is not closed, the mass methods will not function\n",
      "            correctly on this mesh.  For more info:\n",
      "            https://github.com/WoLpH/numpy-stl/issues/69\n",
      "Your mesh is not closed, the mass methods will not function\n",
      "            correctly on this mesh.  For more info:\n",
      "            https://github.com/WoLpH/numpy-stl/issues/69\n",
      "Your mesh is not closed, the mass methods will not function\n",
      "            correctly on this mesh.  For more info:\n",
      "            https://github.com/WoLpH/numpy-stl/issues/69\n",
      "Your mesh is not closed, the mass methods will not function\n",
      "            correctly on this mesh.  For more info:\n",
      "            https://github.com/WoLpH/numpy-stl/issues/69\n"
     ]
    }
   ],
   "source": [
    "whole_brain = mesh.Mesh.from_file('/Users/sbandya/Desktop/wholebrain.stl')\n",
    "one_brain = glob.glob(\"/Users/sbandya/Desktop/testmesh/*\")\n",
    "\n",
    "whole_brain_volume =  whole_brain.get_mass_properties()[0]\n",
    "vacuole_volumes = list()\n",
    "for meshfile in one_brain:\n",
    "    vacuole = mesh.Mesh.from_file(meshfile)\n",
    "    volume, cog, inertia = vacuole.get_mass_properties()\n",
    "    vacuole_volumes.append(volume)"
   ]
  },
  {
   "cell_type": "code",
   "execution_count": 24,
   "metadata": {},
   "outputs": [
    {
     "name": "stdout",
     "output_type": "stream",
     "text": [
      "0.7280100586731793\n"
     ]
    }
   ],
   "source": [
    "total_vacuoles = sum(vacuole_volumes)\n",
    "percent_vacuoles = 100*total_vacuoles/whole_brain_volume\n",
    "print(percent_vacuoles)\n"
   ]
  },
  {
   "cell_type": "code",
   "execution_count": 34,
   "metadata": {
    "scrolled": false
   },
   "outputs": [
    {
     "name": "stderr",
     "output_type": "stream",
     "text": [
      "/Users/sbandya/miniconda3/lib/python3.8/site-packages/seaborn/axisgrid.py:118: UserWarning: The figure layout has changed to tight\n",
      "  self._figure.tight_layout(*args, **kwargs)\n"
     ]
    },
    {
     "data": {
      "text/plain": [
       "<seaborn.axisgrid.FacetGrid at 0x7f94c159b5b0>"
      ]
     },
     "execution_count": 34,
     "metadata": {},
     "output_type": "execute_result"
    },
    {
     "data": {
      "image/png": "[encoded data removed]",
      "text/plain": [
       "<Figure size 500x500 with 1 Axes>"
      ]
     },
     "metadata": {},
     "output_type": "display_data"
    }
   ],
   "source": [
    "g = sns.displot(vacuole_volumes, kde=True)\n",
    "g.set_axis_labels(\"Vacuole volume\",\"Density\")\n",
    "g.set_titles(\"repodrprRNAi40-42D_male\")"
   ]
  },
  {
   "cell_type": "code",
   "execution_count": null,
   "metadata": {},
   "outputs": [],
   "source": []
  }
 ],
 "metadata": {
  "kernelspec": {
   "display_name": "vacuolequant",
   "language": "python",
   "name": "vacuolequant"
  },
  "language_info": {
   "codemirror_mode": {
    "name": "ipython",
    "version": 3
   },
   "file_extension": ".py",
   "mimetype": "text/x-python",
   "name": "python",
   "nbconvert_exporter": "python",
   "pygments_lexer": "ipython3",
   "version": "3.8.3"
  }
 },
 "nbformat": 4,
 "nbformat_minor": 2
}
